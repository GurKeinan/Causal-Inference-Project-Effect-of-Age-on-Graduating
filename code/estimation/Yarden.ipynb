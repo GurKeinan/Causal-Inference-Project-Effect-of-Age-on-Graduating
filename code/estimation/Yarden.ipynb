{
 "cells": [
  {
   "cell_type": "code",
   "execution_count": 52,
   "metadata": {},
   "outputs": [],
   "source": [
    "import pandas as pd\n",
    "\n",
    "from sklearn.model_selection import train_test_split\n",
    "from sklearn.ensemble import RandomForestClassifier\n",
    "from sklearn.metrics import accuracy_score\n",
    "from sklearn.linear_model import LogisticRegression\n",
    "from sklearn.preprocessing import StandardScaler"
   ]
  },
  {
   "cell_type": "code",
   "execution_count": 51,
   "metadata": {},
   "outputs": [
    {
     "data": {
      "text/html": [
       "<div>\n",
       "<style scoped>\n",
       "    .dataframe tbody tr th:only-of-type {\n",
       "        vertical-align: middle;\n",
       "    }\n",
       "\n",
       "    .dataframe tbody tr th {\n",
       "        vertical-align: top;\n",
       "    }\n",
       "\n",
       "    .dataframe thead th {\n",
       "        text-align: right;\n",
       "    }\n",
       "</style>\n",
       "<table border=\"1\" class=\"dataframe\">\n",
       "  <thead>\n",
       "    <tr style=\"text-align: right;\">\n",
       "      <th></th>\n",
       "      <th>Marital status</th>\n",
       "      <th>Application mode</th>\n",
       "      <th>Application order</th>\n",
       "      <th>Course</th>\n",
       "      <th>Daytime/evening attendance</th>\n",
       "      <th>Previous qualification</th>\n",
       "      <th>Previous qualification (grade)</th>\n",
       "      <th>Mother's qualification</th>\n",
       "      <th>Father's qualification</th>\n",
       "      <th>Mother's occupation</th>\n",
       "      <th>...</th>\n",
       "      <th>Admission grade</th>\n",
       "      <th>Displaced</th>\n",
       "      <th>Educational special needs</th>\n",
       "      <th>Gender</th>\n",
       "      <th>Scholarship holder</th>\n",
       "      <th>Unemployment rate</th>\n",
       "      <th>Inflation rate</th>\n",
       "      <th>GDP</th>\n",
       "      <th>Target</th>\n",
       "      <th>Adult</th>\n",
       "    </tr>\n",
       "  </thead>\n",
       "  <tbody>\n",
       "    <tr>\n",
       "      <th>0</th>\n",
       "      <td>1</td>\n",
       "      <td>17</td>\n",
       "      <td>5</td>\n",
       "      <td>171</td>\n",
       "      <td>1</td>\n",
       "      <td>Complete Secondary Education</td>\n",
       "      <td>122.0</td>\n",
       "      <td>Incomplete Secondary Education</td>\n",
       "      <td>Complete Secondary Education</td>\n",
       "      <td>Administrative</td>\n",
       "      <td>...</td>\n",
       "      <td>127.3</td>\n",
       "      <td>1</td>\n",
       "      <td>0</td>\n",
       "      <td>1</td>\n",
       "      <td>0</td>\n",
       "      <td>10.8</td>\n",
       "      <td>1.4</td>\n",
       "      <td>1.74</td>\n",
       "      <td>0</td>\n",
       "      <td>0</td>\n",
       "    </tr>\n",
       "    <tr>\n",
       "      <th>1</th>\n",
       "      <td>1</td>\n",
       "      <td>15</td>\n",
       "      <td>1</td>\n",
       "      <td>9254</td>\n",
       "      <td>1</td>\n",
       "      <td>Complete Secondary Education</td>\n",
       "      <td>160.0</td>\n",
       "      <td>Complete Secondary Education</td>\n",
       "      <td>Higher Education - Undergraduate</td>\n",
       "      <td>Professionals</td>\n",
       "      <td>...</td>\n",
       "      <td>142.5</td>\n",
       "      <td>1</td>\n",
       "      <td>0</td>\n",
       "      <td>1</td>\n",
       "      <td>0</td>\n",
       "      <td>13.9</td>\n",
       "      <td>-0.3</td>\n",
       "      <td>0.79</td>\n",
       "      <td>1</td>\n",
       "      <td>0</td>\n",
       "    </tr>\n",
       "    <tr>\n",
       "      <th>2</th>\n",
       "      <td>1</td>\n",
       "      <td>1</td>\n",
       "      <td>5</td>\n",
       "      <td>9070</td>\n",
       "      <td>1</td>\n",
       "      <td>Complete Secondary Education</td>\n",
       "      <td>122.0</td>\n",
       "      <td>Other Specific Qualifications</td>\n",
       "      <td>Other Specific Qualifications</td>\n",
       "      <td>Plant and Machine Operators</td>\n",
       "      <td>...</td>\n",
       "      <td>124.8</td>\n",
       "      <td>1</td>\n",
       "      <td>0</td>\n",
       "      <td>1</td>\n",
       "      <td>0</td>\n",
       "      <td>10.8</td>\n",
       "      <td>1.4</td>\n",
       "      <td>1.74</td>\n",
       "      <td>0</td>\n",
       "      <td>0</td>\n",
       "    </tr>\n",
       "    <tr>\n",
       "      <th>3</th>\n",
       "      <td>1</td>\n",
       "      <td>17</td>\n",
       "      <td>2</td>\n",
       "      <td>9773</td>\n",
       "      <td>1</td>\n",
       "      <td>Complete Secondary Education</td>\n",
       "      <td>122.0</td>\n",
       "      <td>Other Specific Qualifications</td>\n",
       "      <td>Other Specific Qualifications</td>\n",
       "      <td>Administrative</td>\n",
       "      <td>...</td>\n",
       "      <td>119.6</td>\n",
       "      <td>1</td>\n",
       "      <td>0</td>\n",
       "      <td>0</td>\n",
       "      <td>0</td>\n",
       "      <td>9.4</td>\n",
       "      <td>-0.8</td>\n",
       "      <td>-3.12</td>\n",
       "      <td>1</td>\n",
       "      <td>0</td>\n",
       "    </tr>\n",
       "    <tr>\n",
       "      <th>4</th>\n",
       "      <td>2</td>\n",
       "      <td>39</td>\n",
       "      <td>1</td>\n",
       "      <td>8014</td>\n",
       "      <td>0</td>\n",
       "      <td>Complete Secondary Education</td>\n",
       "      <td>100.0</td>\n",
       "      <td>Other Specific Qualifications</td>\n",
       "      <td>Other Specific Qualifications</td>\n",
       "      <td>Plant and Machine Operators</td>\n",
       "      <td>...</td>\n",
       "      <td>141.5</td>\n",
       "      <td>0</td>\n",
       "      <td>0</td>\n",
       "      <td>0</td>\n",
       "      <td>0</td>\n",
       "      <td>13.9</td>\n",
       "      <td>-0.3</td>\n",
       "      <td>0.79</td>\n",
       "      <td>1</td>\n",
       "      <td>1</td>\n",
       "    </tr>\n",
       "  </tbody>\n",
       "</table>\n",
       "<p>5 rows × 21 columns</p>\n",
       "</div>"
      ],
      "text/plain": [
       "   Marital status  Application mode  Application order  Course  \\\n",
       "0               1                17                  5     171   \n",
       "1               1                15                  1    9254   \n",
       "2               1                 1                  5    9070   \n",
       "3               1                17                  2    9773   \n",
       "4               2                39                  1    8014   \n",
       "\n",
       "   Daytime/evening attendance        Previous qualification  \\\n",
       "0                           1  Complete Secondary Education   \n",
       "1                           1  Complete Secondary Education   \n",
       "2                           1  Complete Secondary Education   \n",
       "3                           1  Complete Secondary Education   \n",
       "4                           0  Complete Secondary Education   \n",
       "\n",
       "   Previous qualification (grade)          Mother's qualification  \\\n",
       "0                           122.0  Incomplete Secondary Education   \n",
       "1                           160.0    Complete Secondary Education   \n",
       "2                           122.0   Other Specific Qualifications   \n",
       "3                           122.0   Other Specific Qualifications   \n",
       "4                           100.0   Other Specific Qualifications   \n",
       "\n",
       "             Father's qualification          Mother's occupation  ...  \\\n",
       "0      Complete Secondary Education               Administrative  ...   \n",
       "1  Higher Education - Undergraduate                Professionals  ...   \n",
       "2     Other Specific Qualifications  Plant and Machine Operators  ...   \n",
       "3     Other Specific Qualifications               Administrative  ...   \n",
       "4     Other Specific Qualifications  Plant and Machine Operators  ...   \n",
       "\n",
       "  Admission grade  Displaced  Educational special needs  Gender  \\\n",
       "0           127.3          1                          0       1   \n",
       "1           142.5          1                          0       1   \n",
       "2           124.8          1                          0       1   \n",
       "3           119.6          1                          0       0   \n",
       "4           141.5          0                          0       0   \n",
       "\n",
       "   Scholarship holder  Unemployment rate  Inflation rate   GDP  Target  Adult  \n",
       "0                   0               10.8             1.4  1.74       0      0  \n",
       "1                   0               13.9            -0.3  0.79       1      0  \n",
       "2                   0               10.8             1.4  1.74       0      0  \n",
       "3                   0                9.4            -0.8 -3.12       1      0  \n",
       "4                   0               13.9            -0.3  0.79       1      1  \n",
       "\n",
       "[5 rows x 21 columns]"
      ]
     },
     "execution_count": 51,
     "metadata": {},
     "output_type": "execute_result"
    }
   ],
   "source": [
    "file_path = '/Users/yarden/Documents/Atuda/spring_2024/causal_inference/Causal-Inference-Project-Effect-of-Age-on-Graduating/code/data/processed_data.csv'\n",
    "data = pd.read_csv(file_path)\n",
    "\n",
    "data.head()"
   ]
  },
  {
   "cell_type": "code",
   "execution_count": 58,
   "metadata": {},
   "outputs": [],
   "source": [
    "n = len(data)\n",
    "\n",
    "t = data['Adult']\n",
    "y = data['Target']\n",
    "\n",
    "X = data.drop(columns=['Adult', 'Target'])\n",
    "\n",
    "numerical_columns = ['Previous qualification (grade)', 'Admission grade', 'Unemployment rate', 'Inflation rate', 'GDP']\n",
    "categorical_columns = list(set(X.columns) - set(numerical_columns))\n",
    "\n",
    "# Scaling numerical columns\n",
    "scaler = StandardScaler()\n",
    "X[numerical_columns] = scaler.fit_transform(X[numerical_columns])\n",
    "\n",
    "# One-hot encoding for categorical columns\n",
    "X = pd.get_dummies(X, columns=categorical_columns, drop_first=True)"
   ]
  },
  {
   "cell_type": "markdown",
   "metadata": {},
   "source": [
    "# Covariate Adjustment"
   ]
  },
  {
   "cell_type": "markdown",
   "metadata": {},
   "source": [
    "## S-learner"
   ]
  },
  {
   "cell_type": "code",
   "execution_count": 59,
   "metadata": {},
   "outputs": [],
   "source": [
    "# Combine features and treatment variable to create the full feature set\n",
    "X_full = pd.concat([X, t], axis=1)\n",
    "\n",
    "# Define the target variable (binary target)\n",
    "y = data['Target']\n",
    "\n",
    "\n",
    "# Fit a Random Forest Classifier model to predict the target variable\n",
    "model = RandomForestClassifier(random_state=42)\n",
    "model.fit(X_full, y)    \n",
    "\n",
    "# Make predictions for all data points\n",
    "y_pred_all = model.predict(X_full)"
   ]
  },
  {
   "cell_type": "code",
   "execution_count": 60,
   "metadata": {},
   "outputs": [
    {
     "name": "stdout",
     "output_type": "stream",
     "text": [
      "ATE: -0.20169451635678984\n",
      "ATT: 0.3598420755781162\n",
      "ATC: 0.6037964458804523\n"
     ]
    }
   ],
   "source": [
    "# Filter predictions where Adult = 1 and Adult = 0\n",
    "treated_predictions_sum = sum(y_pred_all[data['Adult'] == 1])\n",
    "control_predictions_sum = sum(y_pred_all[data['Adult'] == 0])\n",
    "\n",
    "# Calculate the desired value\n",
    "ATE = (treated_predictions_sum - control_predictions_sum) / n\n",
    "ATT = treated_predictions_sum / sum(data['Adult'])\n",
    "ATC = control_predictions_sum / (n - sum(data['Adult']))\n",
    "\n",
    "print(f'ATE: {ATE}')\n",
    "print(f'ATT: {ATT}')\n",
    "print(f'ATC: {ATC}')"
   ]
  },
  {
   "cell_type": "markdown",
   "metadata": {},
   "source": [
    "## T-learner"
   ]
  },
  {
   "cell_type": "code",
   "execution_count": 63,
   "metadata": {},
   "outputs": [],
   "source": [
    "X_1 = X[X_full['Adult'] == 1]\n",
    "X_0 = X[X_full['Adult'] == 0]\n",
    "\n",
    "y_1 = data[data['Adult'] == 1]['Target']\n",
    "y_0 = data[data['Adult'] == 0]['Target']\n",
    "\n",
    "# Fit a Random Forest Classifier model to predict the target variable for each subgroup\n",
    "model_1 = RandomForestClassifier(random_state=42)\n",
    "model_1.fit(X_1, y_1)\n",
    "\n",
    "model_0 = RandomForestClassifier(random_state=42)\n",
    "model_0.fit(X_0, y_0)\n",
    "\n",
    "y_pred_all_1 = model_1.predict(X)\n",
    "y_pred_all_0 = model_0.predict(X)"
   ]
  },
  {
   "cell_type": "code",
   "execution_count": 64,
   "metadata": {},
   "outputs": [
    {
     "name": "stdout",
     "output_type": "stream",
     "text": [
      "ATE: -0.1536832195810779\n",
      "ATT: -0.15792442188381275\n",
      "ATC: -0.15064620355411953\n"
     ]
    }
   ],
   "source": [
    "treated_predictions_sum = sum(y_pred_all_1)\n",
    "control_predictions_sum = sum(y_pred_all_0)\n",
    "\n",
    "ATE = (treated_predictions_sum - control_predictions_sum) / n\n",
    "ATT = (sum(y_pred_all_1[data['Adult'] == 1]) -  sum(y_pred_all_0[data['Adult'] == 1])) / sum(data['Adult'])\n",
    "ATC = (sum(y_pred_all_1[data['Adult'] == 0]) -  sum(y_pred_all_0[data['Adult'] == 0])) / (n - sum(data['Adult']))\n",
    "                                 \n",
    "print(f'ATE: {ATE}')\n",
    "print(f'ATT: {ATT}')\n",
    "print(f'ATC: {ATC}')"
   ]
  },
  {
   "cell_type": "markdown",
   "metadata": {},
   "source": []
  },
  {
   "cell_type": "markdown",
   "metadata": {},
   "source": [
    "# IPW"
   ]
  },
  {
   "cell_type": "code",
   "execution_count": 67,
   "metadata": {},
   "outputs": [
    {
     "name": "stderr",
     "output_type": "stream",
     "text": [
      "/Users/yarden/Library/Python/3.9/lib/python/site-packages/sklearn/linear_model/_logistic.py:460: ConvergenceWarning: lbfgs failed to converge (status=1):\n",
      "STOP: TOTAL NO. of ITERATIONS REACHED LIMIT.\n",
      "\n",
      "Increase the number of iterations (max_iter) or scale the data as shown in:\n",
      "    https://scikit-learn.org/stable/modules/preprocessing.html\n",
      "Please also refer to the documentation for alternative solver options:\n",
      "    https://scikit-learn.org/stable/modules/linear_model.html#logistic-regression\n",
      "  n_iter_i = _check_optimize_result(\n"
     ]
    }
   ],
   "source": [
    "# Fit a logistic regression model to estimate the propensity score (probability of treatment)\n",
    "propensity_model = LogisticRegression(random_state=42)\n",
    "propensity_model.fit(X, t)\n",
    "\n",
    "# Calculate the propensity scores (predicted probabilities of receiving the treatment)\n",
    "propensity_scores = propensity_model.predict_proba(X)[:, 1]\n",
    "\n",
    "# Add the propensity scores to the original data\n",
    "data['propensity_score'] = propensity_scores"
   ]
  },
  {
   "cell_type": "code",
   "execution_count": 68,
   "metadata": {},
   "outputs": [
    {
     "name": "stdout",
     "output_type": "stream",
     "text": [
      "ATE: 0.019604997537647217\n",
      "ATT: -0.053394143603745114\n",
      "ATC: 0.07187780740989626\n"
     ]
    }
   ],
   "source": [
    "ATE = sum(data['Target'] * data['Adult'] / data['propensity_score']) / n - sum(data['Target'] * (1 - data['Adult']) / (1 - data['propensity_score'])) / n\n",
    "ATT = sum(data['Target'] * data['Adult']) / sum(data['Adult']) - sum(data['Target'] * (1 - data['Adult']) * data['propensity_score'] / (1 - data['propensity_score'])) / sum((1 - data['Adult']) * data['propensity_score'] / (1 - data['propensity_score']))\n",
    "p = sum(data['Adult']) / n\n",
    "ATC = (ATE - p * ATT) / (1 - p)\n",
    "\n",
    "print(f'ATE: {ATE}')\n",
    "print(f'ATT: {ATT}')\n",
    "print(f'ATC: {ATC}')"
   ]
  },
  {
   "cell_type": "markdown",
   "metadata": {},
   "source": [
    "# Propensity Score Matching"
   ]
  },
  {
   "cell_type": "code",
   "execution_count": 76,
   "metadata": {},
   "outputs": [],
   "source": [
    "treated = data[data['Adult'] == 1]\n",
    "control = data[data['Adult'] == 0]"
   ]
  },
  {
   "cell_type": "code",
   "execution_count": 77,
   "metadata": {},
   "outputs": [],
   "source": [
    "def nearest_neighbor_match(treated, control, treatment_outcome, control_outcome):\n",
    "    matched_outcomes = []\n",
    "    \n",
    "    # Loop over each treated individual\n",
    "    for i, treated_row in treated.iterrows():\n",
    "        # Find the control individual with the closest propensity score\n",
    "        control_row = control.iloc[(control['propensity_score'] - treated_row['propensity_score']).abs().argsort()[:1]]\n",
    "        \n",
    "        # Calculate the difference in outcomes\n",
    "        matched_outcomes.append(treated_row[treatment_outcome] - control_row[control_outcome].values[0])\n",
    "    \n",
    "    return matched_outcomes"
   ]
  },
  {
   "cell_type": "code",
   "execution_count": 78,
   "metadata": {},
   "outputs": [
    {
     "name": "stdout",
     "output_type": "stream",
     "text": [
      "ATE: 0.07813603200753118\n",
      "ATT: 0.16130851663846588\n",
      "ATC: 0.018578352180936994\n"
     ]
    }
   ],
   "source": [
    "att_differences = nearest_neighbor_match(treated, control, 'Target', 'Target')\n",
    "ATT = sum(att_differences) / len(att_differences)\n",
    "\n",
    "atc_differences = nearest_neighbor_match(control, treated, 'Target', 'Target')\n",
    "ATC = sum(atc_differences) / len(atc_differences)\n",
    "\n",
    "p = sum(data['Adult']) / n\n",
    "ATE = p * ATT + (1 - p) * ATC\n",
    "\n",
    "print(f'ATE: {ATE}')\n",
    "print(f'ATT: {ATT}')\n",
    "print(f'ATC: {ATC}')"
   ]
  },
  {
   "cell_type": "markdown",
   "metadata": {},
   "source": [
    "# Doubly Robust Estimator"
   ]
  },
  {
   "cell_type": "code",
   "execution_count": 72,
   "metadata": {},
   "outputs": [],
   "source": [
    "X_1 = X[X_full['Adult'] == 1]\n",
    "X_0 = X[X_full['Adult'] == 0]\n",
    "\n",
    "y_1 = data[data['Adult'] == 1]['Target']\n",
    "y_0 = data[data['Adult'] == 0]['Target']\n",
    "\n",
    "# Fit a Random Forest Classifier model to predict the target variable for each subgroup\n",
    "model_1 = RandomForestClassifier(random_state=42)\n",
    "model_1.fit(X_1, y_1)\n",
    "\n",
    "model_0 = RandomForestClassifier(random_state=42)\n",
    "model_0.fit(X_0, y_0)\n",
    "\n",
    "y_pred_all_1 = model_1.predict(X)\n",
    "y_pred_all_0 = model_0.predict(X)\n",
    "\n",
    "g_1_score = y_pred_all_1 + (data['Adult'] / data['propensity_score']) * (data['Target'] - y_pred_all_1)\n",
    "g_0_score = y_pred_all_0 + ((1 - data['Adult']) / (1 - data['propensity_score'])) * (data['Target'] - y_pred_all_0)\n",
    "\n",
    "data['g_1_score'] = g_1_score\n",
    "data['g_0_score'] = g_0_score"
   ]
  },
  {
   "cell_type": "code",
   "execution_count": 49,
   "metadata": {},
   "outputs": [
    {
     "name": "stdout",
     "output_type": "stream",
     "text": [
      "ATE: -0.1905269041450876\n"
     ]
    }
   ],
   "source": [
    "ATE = sum(data['g_1_score']) / n - sum(data['g_0_score']) / n\n",
    "\n",
    "print(f'ATE: {ATE}')"
   ]
  }
 ],
 "metadata": {
  "kernelspec": {
   "display_name": "Python 3",
   "language": "python",
   "name": "python3"
  },
  "language_info": {
   "codemirror_mode": {
    "name": "ipython",
    "version": 3
   },
   "file_extension": ".py",
   "mimetype": "text/x-python",
   "name": "python",
   "nbconvert_exporter": "python",
   "pygments_lexer": "ipython3",
   "version": "3.9.6"
  }
 },
 "nbformat": 4,
 "nbformat_minor": 2
}
