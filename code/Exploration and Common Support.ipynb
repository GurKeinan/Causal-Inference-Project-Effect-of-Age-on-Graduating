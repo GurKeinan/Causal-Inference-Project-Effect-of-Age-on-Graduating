{
 "cells": [
  {
   "cell_type": "markdown",
   "metadata": {},
   "source": [
    "# Data Exploration"
   ]
  },
  {
   "cell_type": "code",
   "execution_count": 16,
   "metadata": {
    "ExecuteTime": {
     "end_time": "2024-10-18T17:31:43.341998Z",
     "start_time": "2024-10-18T17:31:43.337555Z"
    }
   },
   "outputs": [],
   "source": [
    "import matplotlib.pyplot as plt\n",
    "import pandas as pd\n",
    "from sklearn.preprocessing import StandardScaler\n",
    "from sklearn.linear_model import LogisticRegression\n",
    "import seaborn as sns\n",
    "import warnings\n",
    "\n",
    "warnings.filterwarnings('ignore')\n",
    "plt.style.use('ggplot')"
   ]
  },
  {
   "cell_type": "code",
   "execution_count": null,
   "metadata": {
    "ExecuteTime": {
     "end_time": "2024-10-18T17:31:43.701636Z",
     "start_time": "2024-10-18T17:31:43.352780Z"
    }
   },
   "outputs": [],
   "source": [
    "\n",
    "raw_data_df = pd.read_csv('data/raw_data.csv')\n",
    "processed_data_df = pd.read_csv('data/processed_data.csv')\n",
    "\n",
    "PREPROCESSED_TARGET_NAME = 'Target'\n",
    "TARGET_VARIABLE_NAME = 'Target'\n",
    "NUMERIC_TREATMENT_NAME = 'Age at enrollment'\n",
    "BINARY_TREATMENT_NAME = 'Adult'\n",
    "\n",
    "# plot 4 graphs side by side\n",
    "# The first is the histogram of the target variable from the raw data\n",
    "# The first is the histogram of the target variable from the processed data\n",
    "# The second is the histogram of the numerical treatment from the raw data\n",
    "# The third is the histogram of the binary treatment from the processed data\n",
    "\n",
    "fig, axs = plt.subplots(1, 4, figsize=(25, 5))\n",
    "\n",
    "plt.subplots_adjust(wspace=0.7)  # Increase this value to add more space\n",
    "\n",
    "# plot the histogram of the target variable from the raw data\n",
    "axs[0].hist(raw_data_df[TARGET_VARIABLE_NAME], bins=5)\n",
    "axs[0].set_title('Histogram of the target variable (trinary)')\n",
    "axs[0].set_xlabel('Graduation status')\n",
    "axs[0].set_ylabel('Frequency')\n",
    "\n",
    "# plot the histogram of the target variable from the processed data\n",
    "# The category of 0 should be renamed to 'Did not graduate' and the category of 1 should be renamed to 'Graduated'\n",
    "axs[1].hist(processed_data_df[TARGET_VARIABLE_NAME], bins=3)\n",
    "axs[1].set_title('Histogram of the target variable (binary)')\n",
    "axs[1].set_xlabel('Graduation status')\n",
    "axs[1].set_ylabel('Frequency')\n",
    "axs[1].set_xticks([0, 1])\n",
    "axs[1].set_xticklabels(['Did not graduate', 'Graduated'])\n",
    "\n",
    "# plot the histogram of the numerical treatment from the raw data\n",
    "axs[2].hist(raw_data_df[NUMERIC_TREATMENT_NAME], bins=30)\n",
    "axs[2].set_title('Histogram of the numerical treatment')\n",
    "axs[2].set_xlabel('Age at enrollment')\n",
    "axs[2].set_ylabel('Frequency')\n",
    "\n",
    "# plot the histogram of the binary treatment from the processed data.\n",
    "# The category of 0 should be renamed to ' Below 21' and the category of 1 should be renamed to '21 and above'\n",
    "axs[3].hist(processed_data_df[BINARY_TREATMENT_NAME], bins=3)\n",
    "axs[3].set_title('Histogram of the binary treatment')\n",
    "axs[3].set_xlabel('Adult')\n",
    "axs[3].set_ylabel('Frequency')\n",
    "axs[3].set_xticks([0, 1])\n",
    "axs[3].set_xticklabels(['Below 21', '21 and above'])\n",
    "\n",
    "# save the plot\n",
    "PLOTS_DIR = '/Users/gurkeinan/semester6/Causal-Inference/Project/plots'\n",
    "plt.savefig(f'{PLOTS_DIR}/target_and_treatments_histograms')\n",
    "\n",
    "plt.tight_layout()\n",
    "plt.show()"
   ]
  },
  {
   "cell_type": "markdown",
   "metadata": {},
   "source": [
    "# Checking Common Support"
   ]
  },
  {
   "cell_type": "markdown",
   "metadata": {},
   "source": [
    "The common support assumption states that each unit has a non-zero probability of receiving each treatment level - $\\forall x \\in X, P(T=1|X=x) > 0$ and $P(T=0|X=x) > 0$."
   ]
  },
  {
   "cell_type": "code",
   "execution_count": 18,
   "metadata": {},
   "outputs": [],
   "source": [
    "from estimation.utils import read_and_transform_data\n",
    "\n",
    "DATA_PATH = '/Users/gurkeinan/semester6/Causal-Inference/Project/code/data/processed_data.csv'\n",
    "X, t, y = read_and_transform_data(DATA_PATH)"
   ]
  },
  {
   "cell_type": "code",
   "execution_count": 19,
   "metadata": {
    "ExecuteTime": {
     "end_time": "2024-10-18T17:31:43.993643Z",
     "start_time": "2024-10-18T17:31:43.785328Z"
    }
   },
   "outputs": [],
   "source": [
    "# Estimate propensity scores\n",
    "propensity_model = LogisticRegression(random_state=42)\n",
    "propensity_model.fit(X, t)\n",
    "propensity_scores = propensity_model.predict_proba(X)[:, 1]\n",
    "\n",
    "# Add propensity scores to the dataframe\n",
    "X['propensity_score'] = propensity_scores"
   ]
  },
  {
   "cell_type": "code",
   "execution_count": null,
   "metadata": {
    "ExecuteTime": {
     "end_time": "2024-10-18T17:31:44.009116Z",
     "start_time": "2024-10-18T17:31:44.000917Z"
    }
   },
   "outputs": [],
   "source": [
    "# Check common support\n",
    "min_treated = X[t == 1]['propensity_score'].min()\n",
    "max_treated = X[t == 1]['propensity_score'].max()\n",
    "min_untreated = X[t == 0]['propensity_score'].min()\n",
    "max_untreated = X[t == 0]['propensity_score'].max()\n",
    "\n",
    "print(f\"Treated group propensity score range: [{min_treated:.4f}, {max_treated:.4f}]\")\n",
    "print(f\"Untreated group propensity score range: [{min_untreated:.4f}, {max_untreated:.4f}]\")\n",
    "\n",
    "if min_treated <= max_untreated and min_untreated <= max_treated:\n",
    "    print(\"The common support condition appears to hold.\")\n",
    "else:\n",
    "    print(\"The common support condition may not hold.\")\n",
    "\n",
    "# Calculate the overlap coefficient\n",
    "overlap_min = max(min_treated, min_untreated)\n",
    "overlap_max = min(max_treated, max_untreated)\n",
    "overlap_coefficient = (overlap_max - overlap_min) / (max_treated - min_untreated)\n",
    "\n",
    "print(f\"Overlap coefficient: {overlap_coefficient:.4f}\")"
   ]
  },
  {
   "cell_type": "code",
   "execution_count": 21,
   "metadata": {
    "ExecuteTime": {
     "end_time": "2024-10-18T17:31:44.036174Z",
     "start_time": "2024-10-18T17:31:44.033919Z"
    }
   },
   "outputs": [],
   "source": [
    "PLOTS_DIR = '/Users/gurkeinan/semester6/Causal-Inference/Project/plots'"
   ]
  },
  {
   "cell_type": "code",
   "execution_count": null,
   "metadata": {
    "ExecuteTime": {
     "end_time": "2024-10-18T17:31:44.265484Z",
     "start_time": "2024-10-18T17:31:44.063651Z"
    }
   },
   "outputs": [],
   "source": [
    "Xt = pd.concat([X, t], axis=1)\n",
    "\n",
    "# Visualize propensity score distributions\n",
    "plt.figure(figsize=(10, 6))\n",
    "\n",
    "sns.histplot(data=Xt, x='propensity_score', hue='Adult',\n",
    "             element='step', stat='density', common_norm=False)\n",
    "plt.title('Propensity Score Distributions')\n",
    "plt.xlabel('Propensity Score')\n",
    "plt.ylabel('Density')\n",
    "plt.legend(title='Adult', labels=['Age ≤ 21', 'Age > 21'])\n",
    "\n",
    "# Save the plot\n",
    "plt.savefig(f'{PLOTS_DIR}/propensity_score_distributions.png')\n",
    "\n",
    "plt.show()"
   ]
  },
  {
   "cell_type": "code",
   "execution_count": null,
   "metadata": {
    "ExecuteTime": {
     "end_time": "2024-10-18T17:31:44.560433Z",
     "start_time": "2024-10-18T17:31:44.280500Z"
    }
   },
   "outputs": [],
   "source": [
    "# Visualize common support\n",
    "plt.figure(figsize=(10, 6))\n",
    "sns.kdeplot(data=X[t == 0]['propensity_score'],\n",
    "            label='Age ≤ 21', shade=True)\n",
    "sns.kdeplot(data=X[t == 1]['propensity_score'],\n",
    "            label='Age > 21', shade=True)\n",
    "plt.axvline(overlap_min, color='r', linestyle='--', label='Overlap region')\n",
    "plt.axvline(overlap_max, color='r', linestyle='--')\n",
    "plt.title('Common Support Visualization')\n",
    "plt.xlabel('Propensity Score')\n",
    "plt.ylabel('Density')\n",
    "plt.legend()\n",
    "\n",
    "# Save the plot\n",
    "plt.savefig(f'{PLOTS_DIR}/common_support.png')\n",
    "\n",
    "plt.show()"
   ]
  }
 ],
 "metadata": {
  "kernelspec": {
   "display_name": "base",
   "language": "python",
   "name": "python3"
  },
  "language_info": {
   "codemirror_mode": {
    "name": "ipython",
    "version": 3
   },
   "file_extension": ".py",
   "mimetype": "text/x-python",
   "name": "python",
   "nbconvert_exporter": "python",
   "pygments_lexer": "ipython3",
   "version": "3.12.4"
  }
 },
 "nbformat": 4,
 "nbformat_minor": 2
}
