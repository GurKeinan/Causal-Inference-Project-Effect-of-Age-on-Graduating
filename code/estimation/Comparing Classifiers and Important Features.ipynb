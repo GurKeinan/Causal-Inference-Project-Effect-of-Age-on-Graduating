{
 "cells": [
  {
   "cell_type": "markdown",
   "id": "d0134ed093ef338d",
   "metadata": {},
   "source": [
    "# Choosing Classifiers for Causal Inference"
   ]
  },
  {
   "cell_type": "code",
   "execution_count": 1,
   "id": "dfebbba6",
   "metadata": {},
   "outputs": [],
   "source": [
    "\n",
    "import matplotlib.pyplot as plt\n",
    "import pandas as pd\n",
    "import seaborn as sns\n",
    "from sklearn.model_selection import train_test_split\n",
    "from sklearn.ensemble import RandomForestClassifier\n",
    "from sklearn.linear_model import LogisticRegression\n",
    "from sklearn.metrics import roc_curve, roc_auc_score\n",
    "from sklearn.ensemble import GradientBoostingClassifier\n",
    "from sklearn.svm import SVC\n",
    "import warnings\n",
    "\n",
    "from utils import read_and_transform_data\n",
    "\n",
    "warnings.filterwarnings('ignore')\n",
    "\n",
    "def set_plot_style():\n",
    "    plt.style.use('ggplot')\n",
    "    plt.rcParams['font.size'] = 14\n",
    "    plt.rcParams['axes.labelsize'] = 16\n",
    "    plt.rcParams['axes.titlesize'] = 18\n",
    "    plt.rcParams['xtick.labelsize'] = 12\n",
    "    plt.rcParams['ytick.labelsize'] = 12\n",
    "    plt.rcParams['legend.fontsize'] = 12\n",
    "    plt.rcParams['figure.titlesize'] = 20\n",
    "\n",
    "DATA_PATH = '/Users/gurkeinan/semester6/Causal-Inference/Project/code/data/processed_data.csv'\n",
    "Y_GIVEN_XT_ROC_PATH = '/Users/gurkeinan/semester6/Causal-Inference/Project/plots/roc_curve_y_given_xt.png'\n",
    "T_GIVEN_X_ROC_PATH = '/Users/gurkeinan/semester6/Causal-Inference/Project/plots/roc_curve_t_given_x.png'\n",
    "Y_GIVEN_XT_FEATURE_IMPORTANCE_PATH = '/Users/gurkeinan/semester6/Causal-Inference/Project/plots/feature_importance_y_given_xt.png'\n",
    "T_GIVEN_X_FEATURE_IMPORTANCE_PATH = '/Users/gurkeinan/semester6/Causal-Inference/Project/plots/feature_importance_t_given_x.png'"
   ]
  },
  {
   "cell_type": "code",
   "execution_count": 2,
   "id": "9c47417f",
   "metadata": {},
   "outputs": [],
   "source": [
    "X, t, y = read_and_transform_data(DATA_PATH)\n",
    "Xt = pd.concat([X, t], axis=1)\n"
   ]
  },
  {
   "cell_type": "code",
   "execution_count": null,
   "id": "e0688de7",
   "metadata": {},
   "outputs": [],
   "source": [
    "def plot_roc_curve(X, y, title, save_path):\n",
    "    X_train, X_test, y_train, y_test = train_test_split(X, y, test_size=0.2, random_state=42)\n",
    "\n",
    "    models = {\n",
    "        'Random Forest': RandomForestClassifier(random_state=42),\n",
    "        'Logistic Regression': LogisticRegression(random_state=42),\n",
    "        'Gradient Boosting': GradientBoostingClassifier(random_state=42),\n",
    "        'SVM': SVC(probability=True, random_state=42)\n",
    "    }\n",
    "\n",
    "    plt.figure(figsize=(8, 6))\n",
    "\n",
    "    for name, model in models.items():\n",
    "        model.fit(X_train, y_train)\n",
    "        y_pred = model.predict_proba(X_test)[:, 1]\n",
    "        fpr, tpr, _ = roc_curve(y_test, y_pred)\n",
    "        roc_auc = roc_auc_score(y_test, y_pred)\n",
    "        plt.plot(fpr, tpr, label=f'{name} (AUC = {roc_auc:.2f})')\n",
    "\n",
    "    plt.plot([0, 1], [0, 1], 'k--')\n",
    "    plt.xlim([0.0, 1.0])\n",
    "    plt.ylim([0.0, 1.05])\n",
    "    plt.xlabel('False Positive Rate')\n",
    "    plt.ylabel('True Positive Rate')\n",
    "    plt.title(title)\n",
    "    plt.legend(loc=\"lower right\")\n",
    "    plt.tight_layout()\n",
    "    plt.savefig(save_path, dpi=300, bbox_inches='tight')\n",
    "    plt.show()\n",
    "\n",
    "# Set the plot style\n",
    "set_plot_style()\n",
    "\n",
    "# Plot ROC curve for Y|X,t\n",
    "plot_roc_curve(Xt, y, 'ROC Curve for Y|X,t', Y_GIVEN_XT_ROC_PATH)\n",
    "\n",
    "# Plot ROC curve for T|X\n",
    "plot_roc_curve(X, t, 'ROC Curve for T|X', T_GIVEN_X_ROC_PATH)"
   ]
  },
  {
   "cell_type": "markdown",
   "id": "91fda03dc7c2d57e",
   "metadata": {},
   "source": [
    "# Feature Importance"
   ]
  },
  {
   "cell_type": "code",
   "execution_count": null,
   "id": "60d33810",
   "metadata": {},
   "outputs": [],
   "source": [
    "import matplotlib.pyplot as plt\n",
    "import seaborn as sns\n",
    "import pandas as pd\n",
    "from sklearn.model_selection import train_test_split\n",
    "from sklearn.ensemble import GradientBoostingClassifier\n",
    "\n",
    "def set_plot_style():\n",
    "    plt.style.use('ggplot')\n",
    "    plt.rcParams['font.size'] = 14\n",
    "    plt.rcParams['axes.labelsize'] = 16\n",
    "    plt.rcParams['axes.titlesize'] = 18\n",
    "    plt.rcParams['xtick.labelsize'] = 12\n",
    "    plt.rcParams['ytick.labelsize'] = 12\n",
    "    plt.rcParams['legend.fontsize'] = 12\n",
    "    plt.rcParams['figure.titlesize'] = 20\n",
    "\n",
    "def plot_feature_importance(X, y, title, save_path, num_features=20):\n",
    "    model = GradientBoostingClassifier(random_state=42)\n",
    "    model.fit(X, y)\n",
    "\n",
    "    feature_scores = pd.Series(model.feature_importances_, index=X.columns).sort_values(ascending=False)\n",
    "    features_to_plot = feature_scores[:num_features]\n",
    "\n",
    "    plt.figure(figsize=(12, 10))\n",
    "    ax = sns.barplot(x=features_to_plot.values, y=features_to_plot.index, palette='viridis')\n",
    "    ax.set_title(title)\n",
    "    ax.set_xlabel(\"Feature Importance Score\")\n",
    "    ax.set_ylabel(\"Features\")\n",
    "\n",
    "    plt.tight_layout()\n",
    "    plt.savefig(save_path, dpi=300, bbox_inches='tight')\n",
    "    plt.show()\n",
    "\n",
    "# Set the plot style\n",
    "set_plot_style()\n",
    "\n",
    "# Plot feature importance for Y|X,T\n",
    "plot_feature_importance(Xt, y, \"Feature Importance for Y|X,T\", Y_GIVEN_XT_FEATURE_IMPORTANCE_PATH)\n",
    "\n",
    "# Plot feature importance for T|X\n",
    "plot_feature_importance(X, t, \"Feature Importance for T|X\", T_GIVEN_X_FEATURE_IMPORTANCE_PATH)"
   ]
  }
 ],
 "metadata": {
  "kernelspec": {
   "display_name": "base",
   "language": "python",
   "name": "python3"
  },
  "language_info": {
   "codemirror_mode": {
    "name": "ipython",
    "version": 3
   },
   "file_extension": ".py",
   "mimetype": "text/x-python",
   "name": "python",
   "nbconvert_exporter": "python",
   "pygments_lexer": "ipython3",
   "version": "3.12.4"
  }
 },
 "nbformat": 4,
 "nbformat_minor": 5
}
