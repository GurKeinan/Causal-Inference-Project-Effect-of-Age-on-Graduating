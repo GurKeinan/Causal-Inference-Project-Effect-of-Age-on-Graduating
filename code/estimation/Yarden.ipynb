{
 "cells": [
  {
   "cell_type": "code",
   "execution_count": 13,
   "metadata": {},
   "outputs": [],
   "source": [
    "import pandas as pd\n",
    "\n",
    "from sklearn.model_selection import train_test_split\n",
    "from sklearn.ensemble import RandomForestClassifier\n",
    "from sklearn.metrics import accuracy_score"
   ]
  },
  {
   "cell_type": "code",
   "execution_count": 15,
   "metadata": {},
   "outputs": [
    {
     "data": {
      "text/html": [
       "<div>\n",
       "<style scoped>\n",
       "    .dataframe tbody tr th:only-of-type {\n",
       "        vertical-align: middle;\n",
       "    }\n",
       "\n",
       "    .dataframe tbody tr th {\n",
       "        vertical-align: top;\n",
       "    }\n",
       "\n",
       "    .dataframe thead th {\n",
       "        text-align: right;\n",
       "    }\n",
       "</style>\n",
       "<table border=\"1\" class=\"dataframe\">\n",
       "  <thead>\n",
       "    <tr style=\"text-align: right;\">\n",
       "      <th></th>\n",
       "      <th>Marital status</th>\n",
       "      <th>Application mode</th>\n",
       "      <th>Application order</th>\n",
       "      <th>Course</th>\n",
       "      <th>Daytime/evening attendance</th>\n",
       "      <th>Previous qualification</th>\n",
       "      <th>Previous qualification (grade)</th>\n",
       "      <th>Mother's qualification</th>\n",
       "      <th>Father's qualification</th>\n",
       "      <th>Mother's occupation</th>\n",
       "      <th>...</th>\n",
       "      <th>Displaced</th>\n",
       "      <th>Educational special needs</th>\n",
       "      <th>Gender</th>\n",
       "      <th>Scholarship holder</th>\n",
       "      <th>Unemployment rate</th>\n",
       "      <th>Inflation rate</th>\n",
       "      <th>GDP</th>\n",
       "      <th>Target</th>\n",
       "      <th>Adult</th>\n",
       "      <th>Target_binary</th>\n",
       "    </tr>\n",
       "  </thead>\n",
       "  <tbody>\n",
       "    <tr>\n",
       "      <th>0</th>\n",
       "      <td>1</td>\n",
       "      <td>17</td>\n",
       "      <td>5</td>\n",
       "      <td>171</td>\n",
       "      <td>1</td>\n",
       "      <td>Complete Secondary Education</td>\n",
       "      <td>122.0</td>\n",
       "      <td>Incomplete Secondary Education</td>\n",
       "      <td>Complete Secondary Education</td>\n",
       "      <td>Administrative</td>\n",
       "      <td>...</td>\n",
       "      <td>1</td>\n",
       "      <td>0</td>\n",
       "      <td>1</td>\n",
       "      <td>0</td>\n",
       "      <td>10.8</td>\n",
       "      <td>1.4</td>\n",
       "      <td>1.74</td>\n",
       "      <td>Dropout</td>\n",
       "      <td>0</td>\n",
       "      <td>0</td>\n",
       "    </tr>\n",
       "    <tr>\n",
       "      <th>1</th>\n",
       "      <td>1</td>\n",
       "      <td>15</td>\n",
       "      <td>1</td>\n",
       "      <td>9254</td>\n",
       "      <td>1</td>\n",
       "      <td>Complete Secondary Education</td>\n",
       "      <td>160.0</td>\n",
       "      <td>Complete Secondary Education</td>\n",
       "      <td>Higher Education - Undergraduate</td>\n",
       "      <td>Professionals</td>\n",
       "      <td>...</td>\n",
       "      <td>1</td>\n",
       "      <td>0</td>\n",
       "      <td>1</td>\n",
       "      <td>0</td>\n",
       "      <td>13.9</td>\n",
       "      <td>-0.3</td>\n",
       "      <td>0.79</td>\n",
       "      <td>Graduate</td>\n",
       "      <td>0</td>\n",
       "      <td>1</td>\n",
       "    </tr>\n",
       "    <tr>\n",
       "      <th>2</th>\n",
       "      <td>1</td>\n",
       "      <td>1</td>\n",
       "      <td>5</td>\n",
       "      <td>9070</td>\n",
       "      <td>1</td>\n",
       "      <td>Complete Secondary Education</td>\n",
       "      <td>122.0</td>\n",
       "      <td>Other Specific Qualifications</td>\n",
       "      <td>Other Specific Qualifications</td>\n",
       "      <td>Plant and Machine Operators</td>\n",
       "      <td>...</td>\n",
       "      <td>1</td>\n",
       "      <td>0</td>\n",
       "      <td>1</td>\n",
       "      <td>0</td>\n",
       "      <td>10.8</td>\n",
       "      <td>1.4</td>\n",
       "      <td>1.74</td>\n",
       "      <td>Dropout</td>\n",
       "      <td>0</td>\n",
       "      <td>0</td>\n",
       "    </tr>\n",
       "    <tr>\n",
       "      <th>3</th>\n",
       "      <td>1</td>\n",
       "      <td>17</td>\n",
       "      <td>2</td>\n",
       "      <td>9773</td>\n",
       "      <td>1</td>\n",
       "      <td>Complete Secondary Education</td>\n",
       "      <td>122.0</td>\n",
       "      <td>Other Specific Qualifications</td>\n",
       "      <td>Other Specific Qualifications</td>\n",
       "      <td>Administrative</td>\n",
       "      <td>...</td>\n",
       "      <td>1</td>\n",
       "      <td>0</td>\n",
       "      <td>0</td>\n",
       "      <td>0</td>\n",
       "      <td>9.4</td>\n",
       "      <td>-0.8</td>\n",
       "      <td>-3.12</td>\n",
       "      <td>Graduate</td>\n",
       "      <td>0</td>\n",
       "      <td>1</td>\n",
       "    </tr>\n",
       "    <tr>\n",
       "      <th>4</th>\n",
       "      <td>2</td>\n",
       "      <td>39</td>\n",
       "      <td>1</td>\n",
       "      <td>8014</td>\n",
       "      <td>0</td>\n",
       "      <td>Complete Secondary Education</td>\n",
       "      <td>100.0</td>\n",
       "      <td>Other Specific Qualifications</td>\n",
       "      <td>Other Specific Qualifications</td>\n",
       "      <td>Plant and Machine Operators</td>\n",
       "      <td>...</td>\n",
       "      <td>0</td>\n",
       "      <td>0</td>\n",
       "      <td>0</td>\n",
       "      <td>0</td>\n",
       "      <td>13.9</td>\n",
       "      <td>-0.3</td>\n",
       "      <td>0.79</td>\n",
       "      <td>Graduate</td>\n",
       "      <td>1</td>\n",
       "      <td>1</td>\n",
       "    </tr>\n",
       "  </tbody>\n",
       "</table>\n",
       "<p>5 rows × 22 columns</p>\n",
       "</div>"
      ],
      "text/plain": [
       "   Marital status  Application mode  Application order  Course  \\\n",
       "0               1                17                  5     171   \n",
       "1               1                15                  1    9254   \n",
       "2               1                 1                  5    9070   \n",
       "3               1                17                  2    9773   \n",
       "4               2                39                  1    8014   \n",
       "\n",
       "   Daytime/evening attendance        Previous qualification  \\\n",
       "0                           1  Complete Secondary Education   \n",
       "1                           1  Complete Secondary Education   \n",
       "2                           1  Complete Secondary Education   \n",
       "3                           1  Complete Secondary Education   \n",
       "4                           0  Complete Secondary Education   \n",
       "\n",
       "   Previous qualification (grade)          Mother's qualification  \\\n",
       "0                           122.0  Incomplete Secondary Education   \n",
       "1                           160.0    Complete Secondary Education   \n",
       "2                           122.0   Other Specific Qualifications   \n",
       "3                           122.0   Other Specific Qualifications   \n",
       "4                           100.0   Other Specific Qualifications   \n",
       "\n",
       "             Father's qualification          Mother's occupation  ...  \\\n",
       "0      Complete Secondary Education               Administrative  ...   \n",
       "1  Higher Education - Undergraduate                Professionals  ...   \n",
       "2     Other Specific Qualifications  Plant and Machine Operators  ...   \n",
       "3     Other Specific Qualifications               Administrative  ...   \n",
       "4     Other Specific Qualifications  Plant and Machine Operators  ...   \n",
       "\n",
       "  Displaced  Educational special needs  Gender  Scholarship holder  \\\n",
       "0         1                          0       1                   0   \n",
       "1         1                          0       1                   0   \n",
       "2         1                          0       1                   0   \n",
       "3         1                          0       0                   0   \n",
       "4         0                          0       0                   0   \n",
       "\n",
       "   Unemployment rate  Inflation rate   GDP    Target  Adult Target_binary  \n",
       "0               10.8             1.4  1.74   Dropout      0             0  \n",
       "1               13.9            -0.3  0.79  Graduate      0             1  \n",
       "2               10.8             1.4  1.74   Dropout      0             0  \n",
       "3                9.4            -0.8 -3.12  Graduate      0             1  \n",
       "4               13.9            -0.3  0.79  Graduate      1             1  \n",
       "\n",
       "[5 rows x 22 columns]"
      ]
     },
     "execution_count": 15,
     "metadata": {},
     "output_type": "execute_result"
    }
   ],
   "source": [
    "file_path = '/Users/yarden/Documents/Atuda/spring_2024/causal_inference/Causal-Inference-Project-Effect-of-Age-on-Graduating/code/data/processed_data.csv'\n",
    "data = pd.read_csv(file_path)\n",
    "\n",
    "# First, encode the target variable into binary (1 for Graduate, 0 for Dropout)\n",
    "data['Target_binary'] = data['Target'].apply(lambda x: 1 if x == 'Graduate' else 0)\n",
    "\n",
    "data.head()"
   ]
  },
  {
   "cell_type": "markdown",
   "metadata": {},
   "source": [
    "# Covariate Adjustment"
   ]
  },
  {
   "cell_type": "markdown",
   "metadata": {},
   "source": [
    "## S-learner"
   ]
  },
  {
   "cell_type": "code",
   "execution_count": 16,
   "metadata": {},
   "outputs": [
    {
     "data": {
      "text/plain": [
       "0.5929411764705882"
      ]
     },
     "execution_count": 16,
     "metadata": {},
     "output_type": "execute_result"
    }
   ],
   "source": [
    "# Choose X (features) and t (treatment variable)\n",
    "# We'll use a subset of features for simplicity\n",
    "X = data[['Marital status', 'Application mode', 'Daytime/evening attendance', 'Admission grade',\n",
    "          'Previous qualification (grade)', 'Unemployment rate', 'Inflation rate', 'GDP']]\n",
    "t = data['Adult']\n",
    "\n",
    "# Combine features and treatment variable to create the full feature set\n",
    "X_full = pd.concat([X, t], axis=1)\n",
    "\n",
    "# Define the target variable (binary target)\n",
    "y = data['Target_binary']\n",
    "\n",
    "# Split the dataset into training and testing sets\n",
    "X_train, X_test, y_train, y_test = train_test_split(X_full, y, test_size=0.3, random_state=42)\n",
    "\n",
    "# Fit a Random Forest Classifier model to predict the target variable\n",
    "model = RandomForestClassifier(random_state=42)\n",
    "model.fit(X_train, y_train)\n",
    "\n",
    "# Predict on the test set\n",
    "y_pred = model.predict(X_test)\n",
    "\n",
    "# Calculate accuracy of the model\n",
    "accuracy = accuracy_score(y_test, y_pred)\n",
    "\n",
    "accuracy"
   ]
  },
  {
   "cell_type": "code",
   "execution_count": 22,
   "metadata": {},
   "outputs": [
    {
     "data": {
      "text/plain": [
       "-0.21252059308072488"
      ]
     },
     "execution_count": 22,
     "metadata": {},
     "output_type": "execute_result"
    }
   ],
   "source": [
    "# Make predictions for all data points\n",
    "y_pred_all = model.predict(X_full)\n",
    "\n",
    "# Filter predictions where Adult = 1 and Adult = 0\n",
    "treated_predictions_sum = sum(y_pred_all[data['Adult'] == 1])\n",
    "control_predictions_sum = sum(y_pred_all[data['Adult'] == 0])\n",
    "\n",
    "# Calculate the number of data points (n)\n",
    "n = len(data)\n",
    "\n",
    "# Calculate the desired value\n",
    "ATE = (treated_predictions_sum - control_predictions_sum) / n\n",
    "\n",
    "ATE"
   ]
  },
  {
   "cell_type": "markdown",
   "metadata": {},
   "source": [
    "## T-learner"
   ]
  },
  {
   "cell_type": "code",
   "execution_count": 24,
   "metadata": {},
   "outputs": [
    {
     "data": {
      "text/plain": [
       "(0.6052631578947368, 0.6002691790040376)"
      ]
     },
     "execution_count": 24,
     "metadata": {},
     "output_type": "execute_result"
    }
   ],
   "source": [
    "X_1 = X[X_full['Adult'] == 1]\n",
    "X_0 = X[X_full['Adult'] == 0]\n",
    "\n",
    "y_1 = data[data['Adult'] == 1]['Target_binary']\n",
    "y_0 = data[data['Adult'] == 0]['Target_binary']\n",
    "\n",
    "# Split the dataset into training and testing sets for each subgroup\n",
    "X_train_1, X_test_1, y_train_1, y_test_1 = train_test_split(X_1, y_1, test_size=0.3, random_state=42)\n",
    "X_train_0, X_test_0, y_train_0, y_test_0 = train_test_split(X_0, y_0, test_size=0.3, random_state=42)\n",
    "\n",
    "# Fit a Random Forest Classifier model to predict the target variable for each subgroup\n",
    "model_1 = RandomForestClassifier(random_state=42)\n",
    "model_1.fit(X_train_1, y_train_1)\n",
    "\n",
    "model_0 = RandomForestClassifier(random_state=42)\n",
    "model_0.fit(X_train_0, y_train_0)\n",
    "\n",
    "# Predict on the test set for each subgroup\n",
    "y_pred_1 = model_1.predict(X_test_1)\n",
    "y_pred_0 = model_0.predict(X_test_0)\n",
    "\n",
    "# Calculate accuracy of the model for each subgroup\n",
    "accuracy_1 = accuracy_score(y_test_1, y_pred_1)\n",
    "accuracy_0 = accuracy_score(y_test_0, y_pred_0)\n",
    "\n",
    "accuracy_1, accuracy_0"
   ]
  },
  {
   "cell_type": "code",
   "execution_count": 26,
   "metadata": {},
   "outputs": [
    {
     "data": {
      "text/plain": [
       "-0.2704165686043775"
      ]
     },
     "execution_count": 26,
     "metadata": {},
     "output_type": "execute_result"
    }
   ],
   "source": [
    "y_pred_all_1 = model_1.predict(X)\n",
    "y_pred_all_0 = model_0.predict(X)\n",
    "\n",
    "treated_predictions_sum = sum(y_pred_all_1)\n",
    "control_predictions_sum = sum(y_pred_all_0)\n",
    "\n",
    "ATE = (treated_predictions_sum - control_predictions_sum) / n\n",
    "\n",
    "ATE"
   ]
  }
 ],
 "metadata": {
  "kernelspec": {
   "display_name": "Python 3",
   "language": "python",
   "name": "python3"
  },
  "language_info": {
   "codemirror_mode": {
    "name": "ipython",
    "version": 3
   },
   "file_extension": ".py",
   "mimetype": "text/x-python",
   "name": "python",
   "nbconvert_exporter": "python",
   "pygments_lexer": "ipython3",
   "version": "3.9.6"
  }
 },
 "nbformat": 4,
 "nbformat_minor": 2
}
