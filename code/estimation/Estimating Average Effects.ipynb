{
 "cells": [
  {
   "cell_type": "markdown",
   "id": "c8b36ffda3a2313b",
   "metadata": {},
   "source": [
    "# Estimating Average Effects"
   ]
  },
  {
   "cell_type": "code",
   "execution_count": 1,
   "id": "initial_id",
   "metadata": {
    "ExecuteTime": {
     "end_time": "2024-10-18T17:07:01.551928Z",
     "start_time": "2024-10-18T17:07:01.549628Z"
    },
    "collapsed": true
   },
   "outputs": [],
   "source": [
    "from matplotlib import pyplot as plt\n",
    "\n",
    "from utils import read_and_transform_data, bci\n",
    "from s_learner import calculate_measures_s_learner\n",
    "from t_learner import calculate_measures_t_learner\n",
    "from inverse_probability_weighting import calculate_measures_ipw\n",
    "from propensity_score_matching import calculate_measures_matching\n",
    "from doubly_robust import calculate_measures_doubly_robust\n",
    "\n",
    "plt.style.use('ggplot')"
   ]
  },
  {
   "cell_type": "code",
   "execution_count": 2,
   "id": "ce72637478bc32c5",
   "metadata": {
    "ExecuteTime": {
     "end_time": "2024-10-18T17:07:01.577852Z",
     "start_time": "2024-10-18T17:07:01.563684Z"
    }
   },
   "outputs": [],
   "source": [
    "DATA_PATH = '/Users/gurkeinan/semester6/Causal-Inference/Project/code/data/processed_data.csv'\n",
    "x, t, y = read_and_transform_data(DATA_PATH)\n",
    "BOX_PLOTS_PATH  = '/Users/gurkeinan/semester6/Causal-Inference/Project/plots/box_plots.png'"
   ]
  },
  {
   "cell_type": "markdown",
   "id": "b4c663e4f42ceee6",
   "metadata": {},
   "source": [
    "## Covariate Adjustment"
   ]
  },
  {
   "cell_type": "markdown",
   "id": "ea69229489d21485",
   "metadata": {},
   "source": [
    "### S - Learner"
   ]
  },
  {
   "cell_type": "code",
   "execution_count": null,
   "id": "dcb52edfbf2ba82f",
   "metadata": {
    "ExecuteTime": {
     "end_time": "2024-10-18T17:07:01.946870Z",
     "start_time": "2024-10-18T17:07:01.586534Z"
    }
   },
   "outputs": [],
   "source": [
    "s_learner_ate, s_learner_att, s_learner_atc = calculate_measures_s_learner(x, t, y)\n",
    "print(f'S-Learner ATE: {s_learner_ate}')\n",
    "print(f'S-Learner ATT: {s_learner_att}')\n",
    "print(f'S-Learner ATC: {s_learner_atc}')"
   ]
  },
  {
   "cell_type": "code",
   "execution_count": null,
   "id": "5c91c85382342603",
   "metadata": {
    "ExecuteTime": {
     "end_time": "2024-10-18T17:12:07.898707Z",
     "start_time": "2024-10-18T17:07:02.019468Z"
    }
   },
   "outputs": [],
   "source": [
    "s_learner_ate_ci, s_learner_att_ci, s_learner_atc_ci, bootstrap_s_learner_ate, bootstrap_s_learner_att, bootstrap_s_learner_atc = bci(x, t, y, calculate_measures_s_learner)\n",
    "print(f'S-Learner ATE 95% CI: {s_learner_ate_ci}')\n",
    "print(f'S-Learner ATT 95% CI: {s_learner_att_ci}')\n",
    "print(f'S-Learner ATC 95% CI: {s_learner_atc_ci}')"
   ]
  },
  {
   "cell_type": "markdown",
   "id": "f1184a1344ed9af6",
   "metadata": {},
   "source": [
    "### T - Learner"
   ]
  },
  {
   "cell_type": "code",
   "execution_count": null,
   "id": "65abdfa372218720",
   "metadata": {
    "ExecuteTime": {
     "end_time": "2024-10-18T17:12:08.243995Z",
     "start_time": "2024-10-18T17:12:07.907081Z"
    }
   },
   "outputs": [],
   "source": [
    "t_learner_ate, t_learner_att, t_learner_atc = calculate_measures_t_learner(x, t, y)\n",
    "print(f'T-Learner ATE: {t_learner_ate}')\n",
    "print(f'T-Learner ATT: {t_learner_att}')\n",
    "print(f'T-Learner ATC: {t_learner_atc}')"
   ]
  },
  {
   "cell_type": "code",
   "execution_count": null,
   "id": "ba90eafeb787804e",
   "metadata": {
    "ExecuteTime": {
     "end_time": "2024-10-18T17:17:19.175056Z",
     "start_time": "2024-10-18T17:12:08.250642Z"
    }
   },
   "outputs": [],
   "source": [
    "t_learner_ate_ci, t_learner_att_ci, t_learner_atc_ci, bootstrap_t_learner_ate, bootstrap_t_learner_att, bootstrap_t_learner_atc = bci(x, t, y, calculate_measures_t_learner)\n",
    "print(f'T-Learner ATE 95% CI: {t_learner_ate_ci}')\n",
    "print(f'T-Learner ATT 95% CI: {t_learner_att_ci}')\n",
    "print(f'T-Learner ATC 95% CI: {t_learner_atc_ci}')"
   ]
  },
  {
   "cell_type": "markdown",
   "id": "12cc0b3d0b18a4af",
   "metadata": {},
   "source": [
    "## Propensity Score Based Methods"
   ]
  },
  {
   "cell_type": "markdown",
   "id": "54e406ffbae75b3f",
   "metadata": {},
   "source": [
    "### Inverse Probability Weighting"
   ]
  },
  {
   "cell_type": "code",
   "execution_count": null,
   "id": "e27f3d6d4e2f1c5e",
   "metadata": {
    "ExecuteTime": {
     "end_time": "2024-10-18T17:17:19.456362Z",
     "start_time": "2024-10-18T17:17:19.184355Z"
    }
   },
   "outputs": [],
   "source": [
    "ipw_ate, ipw_att, ipw_atc = calculate_measures_ipw(x, t, y)\n",
    "print(f'IPW ATE: {ipw_ate}')\n",
    "print(f'IPW ATT: {ipw_att}')\n",
    "print(f'IPW ATC: {ipw_atc}')"
   ]
  },
  {
   "cell_type": "code",
   "execution_count": null,
   "id": "2a3e78bbe234325d",
   "metadata": {
    "ExecuteTime": {
     "end_time": "2024-10-18T17:21:25.806387Z",
     "start_time": "2024-10-18T17:17:19.462993Z"
    }
   },
   "outputs": [],
   "source": [
    "ipw_ate_ci, ipw_att_ci, ipw_atc_ci, bootstrap_ipw_ate, bootstrap_ipw_att, bootstrap_ipw_atc = bci(x, t, y, calculate_measures_ipw)\n",
    "print(f'IPW ATE 95% CI: {ipw_ate_ci}')\n",
    "print(f'IPW ATT 95% CI: {ipw_att_ci}')\n",
    "print(f'IPW ATC 95% CI: {ipw_atc_ci}')"
   ]
  },
  {
   "cell_type": "markdown",
   "id": "9213bd8b77d761b5",
   "metadata": {},
   "source": [
    "\n",
    "### Propensity Based Matching"
   ]
  },
  {
   "cell_type": "code",
   "execution_count": null,
   "id": "1c14774bf87eea1f",
   "metadata": {
    "ExecuteTime": {
     "end_time": "2024-10-18T17:21:26.140507Z",
     "start_time": "2024-10-18T17:21:25.871419Z"
    }
   },
   "outputs": [],
   "source": [
    "psm_ate, psm_att, psm_atc = calculate_measures_matching(x, t, y)\n",
    "print(f'Propensity Score Matching ATE: {psm_ate}')\n",
    "print(f'Propensity Score Matching ATT: {psm_att}')\n",
    "print(f'Propensity Score Matching ATC: {psm_atc}')"
   ]
  },
  {
   "cell_type": "code",
   "execution_count": null,
   "id": "848d5cf28304fc97",
   "metadata": {
    "ExecuteTime": {
     "end_time": "2024-10-18T17:25:29.081155Z",
     "start_time": "2024-10-18T17:21:26.201980Z"
    }
   },
   "outputs": [],
   "source": [
    "psm_ate_ci, psm_att_ci, psm_atc_ci, bootstrap_psm_ate, bootstrap_psm_att, bootstrap_PSM_atc = bci(x, t, y, calculate_measures_matching)\n",
    "print(f'Propensity Score Matching ATE 95% CI: {psm_ate_ci}')\n",
    "print(f'Propensity Score Matching ATT 95% CI: {psm_att_ci}')\n",
    "print(f'Propensity Score Matching ATC 95% CI: {psm_atc_ci}')"
   ]
  },
  {
   "cell_type": "markdown",
   "id": "f53a94b60461f5e7",
   "metadata": {},
   "source": [
    "\n",
    "## Doubly Robust"
   ]
  },
  {
   "cell_type": "code",
   "execution_count": null,
   "id": "7dde40e4",
   "metadata": {},
   "outputs": [],
   "source": [
    "dr_ate, dr_att, dr_atc = calculate_measures_doubly_robust(x, t, y)\n",
    "print(f'Doubly Robust ATE: {dr_ate}')\n",
    "print(f'Doubly Robust ATT: {dr_att}')\n",
    "print(f'Doubly Robust ATC: {dr_atc}')"
   ]
  },
  {
   "cell_type": "code",
   "execution_count": null,
   "id": "cb5567379c261606",
   "metadata": {
    "ExecuteTime": {
     "end_time": "2024-10-18T17:35:00.520787Z",
     "start_time": "2024-10-18T17:25:29.801653Z"
    }
   },
   "outputs": [],
   "source": [
    "dr_ate_ci, dr_att_ci, dr_atc_ci, bootstrap_dr_ate, bootstrap_dr_att, bootstrap_dr_atc = bci(x, t, y, calculate_measures_doubly_robust)\n",
    "print(f'Doubly Robust ATE 95% CI: {dr_ate_ci}')\n",
    "print(f'Doubly Robust ATT 95% CI: {dr_att_ci}')\n",
    "print(f'Doubly Robust ATC 95% CI: {dr_atc_ci}')"
   ]
  },
  {
   "cell_type": "markdown",
   "id": "892f07166a40a43d",
   "metadata": {},
   "source": [
    "# Boxplot of ATE, ATT, and ATC estimates"
   ]
  },
  {
   "cell_type": "code",
   "execution_count": null,
   "id": "9c52fabbb54048b8",
   "metadata": {
    "ExecuteTime": {
     "end_time": "2024-10-18T17:37:39.717141Z",
     "start_time": "2024-10-18T17:37:39.522167Z"
    }
   },
   "outputs": [],
   "source": [
    "# Plot the ATE, ATT, and ATC estimates for each method\n",
    "bootstrap_ate_values = [bootstrap_s_learner_ate, bootstrap_t_learner_ate, bootstrap_ipw_ate, bootstrap_psm_ate, bootstrap_dr_ate]\n",
    "bootstrap_att_values = [bootstrap_s_learner_att, bootstrap_t_learner_att, bootstrap_ipw_att, bootstrap_psm_att, bootstrap_dr_att]\n",
    "bootstrap_atc_values = [bootstrap_s_learner_atc, bootstrap_t_learner_atc, bootstrap_ipw_atc, bootstrap_PSM_atc, bootstrap_dr_atc]\n",
    "\n",
    "ate_cis = [s_learner_ate_ci, t_learner_ate_ci, ipw_ate_ci, psm_ate_ci, dr_ate_ci]\n",
    "att_cis = [s_learner_att_ci, t_learner_att_ci, ipw_att_ci, psm_att_ci, dr_att_ci]\n",
    "atc_cis = [s_learner_atc_ci, t_learner_atc_ci, ipw_atc_ci, psm_atc_ci, dr_atc_ci]\n",
    "\n",
    "colors = ['lightblue', 'lightgreen', 'lightpink', 'lightgrey', 'lightyellow']\n",
    "method_names = ['S-Learner', 'T-Learner', 'IPW', 'PSM', 'Doubly Robust']\n",
    "\n",
    "plt.figure(figsize=(10, 12))\n",
    "plt.subplot(3, 1, 1)\n",
    "boxes_ate = plt.boxplot(bootstrap_ate_values, patch_artist=True, labels=list(method_names))\n",
    "for patch, color in zip(boxes_ate['boxes'], colors):\n",
    "    patch.set_facecolor(color)\n",
    "plt.title('ATE Estimates')\n",
    "plt.ylabel('ATE')\n",
    "\n",
    "plt.subplot(3, 1, 2)\n",
    "boxes_att = plt.boxplot(bootstrap_att_values, patch_artist=True, labels=list(method_names))\n",
    "for patch, color in zip(boxes_att['boxes'], colors):\n",
    "    patch.set_facecolor(color)\n",
    "plt.title('ATT Estimates')\n",
    "plt.ylabel('ATT')\n",
    "\n",
    "plt.subplot(3, 1, 3)\n",
    "boxes_atc = plt.boxplot(bootstrap_atc_values, patch_artist=True, labels=list(method_names))\n",
    "for patch, color in zip(boxes_atc['boxes'], colors):\n",
    "    patch.set_facecolor(color)\n",
    "plt.title('ATC Estimates')\n",
    "plt.ylabel('ATC')\n",
    "\n",
    "plt.subplots_adjust(hspace=0.8)\n",
    "plt.tight_layout()\n",
    "\n",
    "# Save the box plots\n",
    "plt.savefig(BOX_PLOTS_PATH)\n",
    "\n",
    "plt.show()"
   ]
  },
  {
   "cell_type": "code",
   "execution_count": null,
   "id": "34393e43",
   "metadata": {},
   "outputs": [],
   "source": [
    "import matplotlib.pyplot as plt\n",
    "import numpy as np\n",
    "\n",
    "colors = ['lightblue', 'lightgreen', 'lightpink', 'lightgrey', 'lightyellow']\n",
    "method_names = ['S-Learner', 'T-Learner', 'IPW', 'PSM', 'Doubly Robust']\n",
    "\n",
    "plt.figure(figsize=(12, 15))\n",
    "\n",
    "def plot_boxplot_with_ci(ax, data, cis, title, ylabel):\n",
    "    boxes = ax.boxplot(data, patch_artist=True, labels=method_names)\n",
    "    for patch, color in zip(boxes['boxes'], colors):\n",
    "        patch.set_facecolor(color)\n",
    "\n",
    "    # Adding error bars for CIs\n",
    "    positions = range(1, len(method_names) + 1)\n",
    "    for i, (ci, pos) in enumerate(zip(cis, positions)):\n",
    "        mid = np.mean(ci)\n",
    "        err = [mid - ci[0], ci[1] - mid]\n",
    "        ax.errorbar(pos, mid, yerr=np.array(err).reshape(2,1), fmt='k', capsize=5)\n",
    "\n",
    "    ax.set_title(title)\n",
    "    ax.set_ylabel(ylabel)\n",
    "    ax.set_ylim(min(min(d) for d in data) - 0.05, max(max(d) for d in data) + 0.05)\n",
    "\n",
    "plt.subplot(3, 1, 1)\n",
    "plot_boxplot_with_ci(plt.gca(), bootstrap_ate_values, ate_cis, 'ATE Estimates', 'ATE')\n",
    "\n",
    "plt.subplot(3, 1, 2)\n",
    "plot_boxplot_with_ci(plt.gca(), bootstrap_att_values, att_cis, 'ATT Estimates', 'ATT')\n",
    "\n",
    "plt.subplot(3, 1, 3)\n",
    "plot_boxplot_with_ci(plt.gca(), bootstrap_atc_values, atc_cis, 'ATC Estimates', 'ATC')\n",
    "\n",
    "plt.tight_layout()\n",
    "plt.savefig(BOX_PLOTS_PATH)\n",
    "plt.show()"
   ]
  }
 ],
 "metadata": {
  "kernelspec": {
   "display_name": "base",
   "language": "python",
   "name": "python3"
  },
  "language_info": {
   "codemirror_mode": {
    "name": "ipython",
    "version": 3
   },
   "file_extension": ".py",
   "mimetype": "text/x-python",
   "name": "python",
   "nbconvert_exporter": "python",
   "pygments_lexer": "ipython3",
   "version": "3.12.4"
  }
 },
 "nbformat": 4,
 "nbformat_minor": 5
}
